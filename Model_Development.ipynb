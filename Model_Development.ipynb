{
  "nbformat": 4,
  "nbformat_minor": 0,
  "metadata": {
    "colab": {
      "provenance": []
    },
    "kernelspec": {
      "name": "python3",
      "display_name": "Python 3"
    },
    "language_info": {
      "name": "python"
    }
  },
  "cells": [
    {
      "cell_type": "markdown",
      "source": [
        "\n",
        "\n",
        "\n",
        "# **> Model Development**\n",
        "\n",
        "\n",
        "Compare models based on accuracy and performance metrics like RMSE (Root Mean Squared Error) and MAE (Mean Absolute Error)."
      ],
      "metadata": {
        "id": "ovLVesMYvmUI"
      }
    },
    {
      "cell_type": "markdown",
      "source": [
        "# **Mount Google Drive**\n",
        "Mount Google Drive to access files stored in 'MyDrive'\n",
        "\n",
        "Use force_remount=True to ensure the drive is remounted if previously mounted"
      ],
      "metadata": {
        "id": "Biq0W57PuIrx"
      }
    },
    {
      "cell_type": "code",
      "execution_count": null,
      "metadata": {
        "colab": {
          "base_uri": "https://localhost:8080/"
        },
        "id": "rl5-v3FWedwY",
        "outputId": "5dbb3c73-9813-40a8-965c-12e5707410fd"
      },
      "outputs": [
        {
          "output_type": "stream",
          "name": "stdout",
          "text": [
            "Mounted at /content/drive\n",
            "['Getting started.pdf', 'Unlock Indusoft.rar', 'Wonderware InduSoft Web Studio v8.0 KegGen.rar', 'InduSoft.Web.Studio.v8.0.patch.3.x64.Crack.Only_pd.rar', 'New recording 1.m4a', 'Instructions for Application Form Urdu.pdf', 'ASF Registration Form & Medical, Physical Test Slips (BPS 01-15).pdf', 'Classroom', 'Capture.PNG', 'WhatsApp Image 2021-02-01 at 22.38.28.jpeg', 'Bramd Hunting (2).xlsx', 'Untitled spreadsheet (16).gsheet', 'Bramd Hunting (1).xlsx', 'Bramd Hunting (1).gsheet', 'Bramd Hunting.gsheet', 'Bramd Hunting.xlsx', 'UAE working', 'brand hunting.xlsx', 'product hunting.xlsx', 'Product hunting.xlsx', 'Keepa_ASIN_Export.2021_08_17.2_products.xlsx', 'Keepa_ASIN_Export.2021_08_17.100_products.xlsx', 'Product_Finder.2021_08_17 (2).products.csv', 'Product_Finder.2021_08_17.products (1) (4).csv', 'Product_Finder.2021_08_17.products (1) (3).csv', 'Product_Finder.2021_08_17.products (1) (2).csv', 'Product_Finder.2021_08_17.products (1) (1).csv', 'Product_Finder.2021_08_17.products (1).csv', 'Product_Finder.2021_08_17 (1).products.csv', 'Product_Finder.2021_08_17.products (2) (1).csv', 'Product_Finder.2021_08_17.products.csv', 'Product_Finder.2021_08_17.products (2).csv', 'Product_Finder.2021_08_19.products.csv', 'Brand Hunting sheet .xlsx', ' Product Hunting.gsheet', 'Keepa_ASIN_Export.2021_09_6.69_products.xlsx', 'Untitled document (2).gdoc', 'Keepa_ASIN_Export.2021_09_7.100_products.xlsx', 'Untitled spreadsheet (15).gsheet', 'Keepa_ASIN_Export.2021_09_9.100_products.xlsx', 'Untitled spreadsheet (14).gsheet', 'Keepa_ASIN_Export.2021_09_10.100_products.xlsx', 'Syed Resume.pdf', 'Syed Resume.gdoc', 'Keepa_ASIN_Export.2021_09_13.20_products.xlsx', 'Untitled spreadsheet (13).gsheet', ' Seller Snippy Kamran bhai.gsheet', 'Keepa_ASIN_Export.2021_09_19.100_products.xlsx', 'Untitled spreadsheet (12).gsheet', 'Keepa_ASIN_Export.2021_09_20.138_products.xlsx', 'Keepa_ASIN_Export.2021_09_23.221_products.xlsx', 'Keepa_ASIN_Export.2021_09_23.814_products.xlsx', 'Untitled spreadsheet (11).gsheet', 'Keepa_ASIN_Export.2021_09_23.153_products.xlsx', 'Untitled spreadsheet (10).gsheet', 'NDA.gdoc', 'Untitled document - Line chart 1.gsheet', 'USA Working', 'Keepa_ASIN_Export.2021_09_25.145_products.xlsx', 'Kamranali USA.gsheet', 'Keepa_ASIN_Export.2021_09_27.579_products.xlsx', 'Keepa_ASIN_Export.2021_09_27.244_products.xlsx', 'Keepa_ASIN_Export.2021_09_27 (1).244_products.gsheet', 'Keepa_ASIN_Export.2021_09_27.244_products.gsheet', 'Keepa_ASIN_Export.2021_09_28.748_products.xlsx', 'ws video', 'CSV LIST - 20210802.xls', 'Inventory list 8.2.21.csv', 'Keepa_ASIN_Export.2021_09_29 (3).1034_products.gsheet', 'Keepa_ASIN_Export.2021_09_29.1034_products.xlsx', 'Keepa_ASIN_Export.2021_09_29 (2).1034_products.gsheet', 'Keepa_ASIN_Export.2021_09_29 (1).1034_products.gsheet', 'Keepa_ASIN_Export.2021_09_29.1034_products.gsheet', 'Keepa_ASIN_Export.2021_10_4.457_products.xlsx', 'Keepa_ASIN_Export.2021_10_4.457_products.gsheet', 'Keepa_ASIN_Export.2021_10_6 (1).500_products.xlsx', 'Keepa_ASIN_Export.2021_10_6.500_products.xlsx', 'Keepa_ASIN_Export.2021_10_6 (1).500_products.gsheet', 'Keepa_ASIN_Export.2021_10_6.500_products.gsheet', 'UK Product hunting sheet.gsheet', 'ScanUnlimited-Inventory list 8.2.21.csv-1628153458344.csv', 'Untitled document (1).gdoc', 'UK working', 'UK Working VA.gsheet', 'Wholesaler_supplier in USA.gsheet', 'UK working 1', 'UK pratice.gsheet', 'UPC sheet.gsheet', 'Rimsha Pro', 'Keepa_ASIN_Export.2021_12_5.1958_products.xlsx', 'Keepa_ASIN_Export.2021_12_5 (1).1958_products.gsheet', 'Keepa_ASIN_Export.2021_12_5.1958_products.gsheet', 'Keepa_ASIN_Export.2021_12_6.2000_products.xlsx', 'Keepa_ASIN_Export.2021_12_6.643_products.xlsx', 'Keepa_ASIN_Export.2021_12_6.66_products.xlsx', 'Keepa_ASIN_Export.2021_12_6.482_products.xlsx', 'Untitled spreadsheet (9).gsheet', 'Registered.gsheet', 'RandyUSA.gsheet', 'Amazon Account - UK Calculator.xlsx', 'TheHealthStore_Raquel_Analyzed 23.01.22 (1).xlsx', 'TheHealthStore_Raquel_Analyzed 23.01.22.xlsx', 'TheHealthStore_Raquel_Analyzed 23.01.22.gsheet', 'VA job.pdf', 'Untitled document.gdoc', 'Engg Syed Hamza.pdf', 'Engg Syed Hamza.gdoc', 'Resume (2).gdoc', 'Resume (1).gdoc', 'Resume.gdoc', 'New UK sheet.gsheet', 'syed hamza arif resume pdf (1).pdf', 'scanned 1.xlsx', 'Hesbro 1.gsheet', 'Untitled spreadsheet (8).gsheet', 'OTB_inventory.csv', 'Untitled spreadsheet (7).gsheet', 'scanned3.xlsx', 'scanned weiners (1).xlsx', ' Sue Hall(starwest botanical).gsheet', ' Weiners LTD.gsheet', 'Scanned3.gsheet', ' Stephen Robert.gsheet', 'scanned online.gsheet', 'syed hamza arif resume pdf.pdf', 'KeepaExport-2022-03-30-ProductFinder.xlsx', 'KeepaExport-2022-03-30-ProductFinder.csv', 'KeepaExport-2022-03-30-ProductFinder (1).gsheet', 'KeepaExport-2022-03-30-ProductFinder.gsheet', 'Untitled spreadsheet (6).gsheet', 'm pet product.xlsx', 'm pet product (1).gsheet', 'm pet product.gsheet', 'm pet.gsheet', 'export_product_feed (5).csv', 'Untitled spreadsheet (5).gsheet', 'SCAANED SHEETS.xlsx', 'Untitled spreadsheet (4).gsheet', ' Devon Entrepreneur.gsheet', 'To-do list (3).gsheet', 'blackgirl.jpg', 'Sadia Touseef.gsheet', 'jones_cust_product_listing (1).csv', 'Untitled spreadsheet (3).gsheet', 'every day scanned.xlsx', 'Untitled spreadsheet (2).gsheet', 'KeepaExport-2022-04-07-ProductFinder.csv', 'attiudae.gsheet', ' saveela.gsheet', 'KeepaExport-2022-04-13-ProductFinder.gsheet', 'Untitled spreadsheet (1).gsheet', 'To-do list (2).gsheet', 'To-do list (1).gsheet', 'To-do list.gsheet', ' seller1 hs.gsheet', 'KeepaExport-2022-04-25-ProductFinder.xlsx', 'KeepaExport-2022-04-25-ProductFinder (1).gsheet', 'KeepaExport-2022-04-25-ProductFinder.gsheet', 'KeepaExport-2022-04-26-ProductFinder.xlsx', 'KeepaExport-2022-04-26-ProductFinder.gsheet', 'Yama UK.gsheet', ' Hasher Sahab.gsheet', 'Attiqa working.gsheet', 'Aqsa Sheet.gsheet', 'Front.jpeg', ' Mrs.Omair Working.gsheet', 'Wonderware InduSoft Web Studio v8.0.rar', 'Copy of Brand hunting sheet for USA(Ijaz).gsheet', 'ayesha.gsheet', ' sidra.gsheet', 'muneeba.gsheet', ' Esource uk.gsheet', ' Shahmeer Sahab 1.gsheet', 'Noor.gsheet', 'Zara lahore.gsheet', ' Shameer sahab.gsheet', 'anemia.csv', 'NEW Hashir Bhai SS.gsheet', 'Zoya Ashraf.gsheet', 'Mufeez.gsheet', ' YAMA SS1.gsheet', 'Master LLC.gsheet', 'Engg CV.pdf', 'InduSoft.Web.Studio.v8.0.patch.3.x64.Crack.Only_pd', 'pcs software', ' saira uk cal.gsheet', 'Monthly budget.gsheet', 'Untitled spreadsheet.gsheet', 'uk calculator.gsheet', 'project.PNG', 'ADS2_Tutorial_1_(2022B)_Google_Colab.ipynb', 'ADS 2 Colab Notebooks', 'spark-3.3.0-bin-hadoop3.tgz', 'Colab Notebooks', 'Archive.zip', 'kitchenshoppe training Winner.mp4', 'Untitled folder', 'winner', 'Gmail - Payment Authentication Receipt - DO NOT REPLY TO THIS E-MAIL1.pdf', 'Syeda.gsheet', 'Car_Price Prediction.zip', 'My Report_FYP.gdoc', 'car_price_cleaned_data.csv', 'df_cleaned.pkl']\n"
          ]
        }
      ],
      "source": [
        "\n",
        "from google.colab import drive\n",
        "drive.mount('/content/drive', force_remount=True)\n",
        "\n",
        "import os\n",
        "\n",
        "# List the files in MyDrive to check if the cleaned data file exists\n",
        "print(os.listdir('/content/drive/MyDrive'))\n"
      ]
    },
    {
      "cell_type": "markdown",
      "source": [
        "# **Import Libraries**"
      ],
      "metadata": {
        "id": "8Z5cuushuntg"
      }
    },
    {
      "cell_type": "code",
      "source": [
        "# Import the necessary libraries for data processing, modeling, and evaluation\n",
        "from sklearn.linear_model import LinearRegression\n",
        "from sklearn.ensemble import RandomForestRegressor, GradientBoostingRegressor\n",
        "from sklearn.model_selection import train_test_split\n",
        "from sklearn.metrics import mean_squared_error, mean_absolute_error\n",
        "import numpy as np\n",
        "import matplotlib.pyplot as plt"
      ],
      "metadata": {
        "id": "t8dhYgXTgwkL"
      },
      "execution_count": null,
      "outputs": []
    },
    {
      "cell_type": "markdown",
      "source": [
        "# **Load the cleaned data from Google Drive**"
      ],
      "metadata": {
        "id": "_y8O-KOxuMm-"
      }
    },
    {
      "cell_type": "code",
      "source": [
        "import pandas as pd\n",
        "# Load the cleaned data from Google Drive\n",
        "file_path = '/content/drive/MyDrive/car_price_cleaned_data.csv'\n",
        "cleaned_data = pd.read_csv(file_path)\n",
        "\n",
        "# Display the first few rows of the cleaned data to confirm it's loaded correctly\n",
        "print(cleaned_data.head())\n",
        "\n",
        "import pickle\n",
        "\n",
        "# Save df_cleaned to a pickle file\n",
        "with open('/content/drive/MyDrive/df_cleaned.pkl', 'wb') as f:\n",
        "    pickle.dump(cleaned_data, f)\n",
        "\n",
        "print(\"cleaned_data saved to Google Drive as pickle file.\")\n"
      ],
      "metadata": {
        "colab": {
          "base_uri": "https://localhost:8080/"
        },
        "id": "0Lo3xBsDftGw",
        "outputId": "73bbdb32-939c-4c2a-cc89-cd87669ed11e"
      },
      "execution_count": null,
      "outputs": [
        {
          "output_type": "stream",
          "name": "stdout",
          "text": [
            "   it      ft         bt        km transmission  ownerNo      oem  \\\n",
            "0   0  Petrol  Hatchback  120000.0       Manual        3   Maruti   \n",
            "1   0  Petrol        SUV   32706.0       Manual        2     Ford   \n",
            "2   0  Petrol  Hatchback   11949.0       Manual        1     Tata   \n",
            "3   0  Petrol      Sedan   17794.0       Manual        1  Hyundai   \n",
            "4   0  Diesel        SUV   60000.0       Manual        1   Maruti   \n",
            "\n",
            "                model  modelYear  centralVariantId               variantName  \\\n",
            "0      Maruti Celerio       2015              3979                       VXI   \n",
            "1       Ford Ecosport       2018              6087  1.5 Petrol Titanium BSIV   \n",
            "2          Tata Tiago       2018              2983           1.2 Revotron XZ   \n",
            "3       Hyundai Xcent       2014              1867        1.2 Kappa S Option   \n",
            "4  Maruti SX4 S Cross       2015              4277             DDiS 200 Zeta   \n",
            "\n",
            "      price  mileage  Seats  \n",
            "0  400000.0    23.10    5.0  \n",
            "1  811000.0    17.00    5.0  \n",
            "2  585000.0    23.84    5.0  \n",
            "3  462000.0    19.10    5.0  \n",
            "4  790000.0    23.65    5.0  \n",
            "cleaned_data saved to Google Drive as pickle file.\n"
          ]
        }
      ]
    },
    {
      "cell_type": "markdown",
      "source": [
        "# **Apply One-Hot Encoding**"
      ],
      "metadata": {
        "id": "_SbKqRIquR-X"
      }
    },
    {
      "cell_type": "code",
      "source": [
        "# Apply One-Hot Encoding for 'oem' (car brand), 'fuelType', 'carType', etc.\n",
        "cleaned_data = pd.get_dummies(cleaned_data, columns=['oem', 'variantName','model','ft', 'bt', 'transmission'], drop_first=True)\n",
        "\n",
        "# Verify the encoding\n",
        "print(cleaned_data.head())\n",
        "\n"
      ],
      "metadata": {
        "colab": {
          "base_uri": "https://localhost:8080/"
        },
        "id": "APNMT53jgV_U",
        "outputId": "bde3e7e8-5dc7-477f-d08f-d31b62afd8c5"
      },
      "execution_count": null,
      "outputs": [
        {
          "output_type": "stream",
          "name": "stdout",
          "text": [
            "   it        km  ownerNo  modelYear  centralVariantId     price  mileage  \\\n",
            "0   0  120000.0        3       2015              3979  400000.0    23.10   \n",
            "1   0   32706.0        2       2018              6087  811000.0    17.00   \n",
            "2   0   11949.0        1       2018              2983  585000.0    23.84   \n",
            "3   0   17794.0        1       2014              1867  462000.0    19.10   \n",
            "4   0   60000.0        1       2015              4277  790000.0    23.65   \n",
            "\n",
            "   Seats  oem_BMW  oem_Chevrolet  ...  ft_Petrol  bt_Coupe  bt_Hatchback  \\\n",
            "0    5.0    False          False  ...       True     False          True   \n",
            "1    5.0    False          False  ...       True     False         False   \n",
            "2    5.0    False          False  ...       True     False          True   \n",
            "3    5.0    False          False  ...       True     False         False   \n",
            "4    5.0    False          False  ...      False     False         False   \n",
            "\n",
            "   bt_MUV  bt_Minivans  bt_Pickup Trucks  bt_SUV  bt_Sedan  bt_Wagon  \\\n",
            "0   False        False             False   False     False     False   \n",
            "1   False        False             False    True     False     False   \n",
            "2   False        False             False   False     False     False   \n",
            "3   False        False             False   False      True     False   \n",
            "4   False        False             False    True     False     False   \n",
            "\n",
            "   transmission_Manual  \n",
            "0                 True  \n",
            "1                 True  \n",
            "2                 True  \n",
            "3                 True  \n",
            "4                 True  \n",
            "\n",
            "[5 rows x 2122 columns]\n"
          ]
        }
      ]
    },
    {
      "cell_type": "markdown",
      "source": [
        "# **Prepare Data for Training**"
      ],
      "metadata": {
        "id": "jMVI5_Bpgs1X"
      }
    },
    {
      "cell_type": "code",
      "source": [
        "from sklearn.model_selection import train_test_split\n",
        "\n",
        "# Separate features (X) and target variable (y)\n",
        "X = df_cleaned.drop(columns=['price'])  # All features except 'price'\n",
        "y = df_cleaned['price']  # Target variable (price)\n",
        "\n",
        "# Split the data into training and testing sets (80% train, 20% test)\n",
        "X_train, X_test, y_train, y_test = train_test_split(X, y, test_size=0.2, random_state=42)\n",
        "\n",
        "print(f\"Training data shape: {X_train.shape}\")\n",
        "print(f\"Testing data shape: {X_test.shape}\")\n"
      ],
      "metadata": {
        "colab": {
          "base_uri": "https://localhost:8080/",
          "height": 211
        },
        "id": "fcnhSdeTgtWz",
        "outputId": "4f14c7f4-ccb0-43d9-c4e0-46ba5a1f106b"
      },
      "execution_count": null,
      "outputs": [
        {
          "output_type": "error",
          "ename": "NameError",
          "evalue": "name 'df_cleaned' is not defined",
          "traceback": [
            "\u001b[0;31m---------------------------------------------------------------------------\u001b[0m",
            "\u001b[0;31mNameError\u001b[0m                                 Traceback (most recent call last)",
            "\u001b[0;32m<ipython-input-10-e7009a74245a>\u001b[0m in \u001b[0;36m<cell line: 4>\u001b[0;34m()\u001b[0m\n\u001b[1;32m      2\u001b[0m \u001b[0;34m\u001b[0m\u001b[0m\n\u001b[1;32m      3\u001b[0m \u001b[0;31m# Separate features (X) and target variable (y)\u001b[0m\u001b[0;34m\u001b[0m\u001b[0;34m\u001b[0m\u001b[0m\n\u001b[0;32m----> 4\u001b[0;31m \u001b[0mX\u001b[0m \u001b[0;34m=\u001b[0m \u001b[0mdf_cleaned\u001b[0m\u001b[0;34m.\u001b[0m\u001b[0mdrop\u001b[0m\u001b[0;34m(\u001b[0m\u001b[0mcolumns\u001b[0m\u001b[0;34m=\u001b[0m\u001b[0;34m[\u001b[0m\u001b[0;34m'price'\u001b[0m\u001b[0;34m]\u001b[0m\u001b[0;34m)\u001b[0m  \u001b[0;31m# All features except 'price'\u001b[0m\u001b[0;34m\u001b[0m\u001b[0;34m\u001b[0m\u001b[0m\n\u001b[0m\u001b[1;32m      5\u001b[0m \u001b[0my\u001b[0m \u001b[0;34m=\u001b[0m \u001b[0mdf_cleaned\u001b[0m\u001b[0;34m[\u001b[0m\u001b[0;34m'price'\u001b[0m\u001b[0;34m]\u001b[0m  \u001b[0;31m# Target variable (price)\u001b[0m\u001b[0;34m\u001b[0m\u001b[0;34m\u001b[0m\u001b[0m\n\u001b[1;32m      6\u001b[0m \u001b[0;34m\u001b[0m\u001b[0m\n",
            "\u001b[0;31mNameError\u001b[0m: name 'df_cleaned' is not defined"
          ]
        }
      ]
    },
    {
      "cell_type": "markdown",
      "source": [
        "# **Initialize the models**"
      ],
      "metadata": {
        "id": "y5A4qlwCuwb-"
      }
    },
    {
      "cell_type": "code",
      "source": [
        "# Initialize the models\n",
        "linear_regression_model = LinearRegression()\n",
        "random_forest_model = RandomForestRegressor(n_estimators=100, random_state=42)\n",
        "gradient_boosting_model = GradientBoostingRegressor(n_estimators=100, random_state=42)\n"
      ],
      "metadata": {
        "id": "kIEgcM3orcax"
      },
      "execution_count": null,
      "outputs": []
    },
    {
      "cell_type": "markdown",
      "source": [
        "# **Train the models**"
      ],
      "metadata": {
        "id": "PvL9S6f9uys0"
      }
    },
    {
      "cell_type": "code",
      "source": [
        "# Train the models\n",
        "linear_regression_model.fit(X_train, y_train)\n",
        "random_forest_model.fit(X_train, y_train)\n",
        "gradient_boosting_model.fit(X_train, y_train)\n"
      ],
      "metadata": {
        "colab": {
          "base_uri": "https://localhost:8080/",
          "height": 193
        },
        "id": "h8zZxTi6rfFc",
        "outputId": "fa86327e-5ec3-4c1a-c428-896f56d593d1"
      },
      "execution_count": null,
      "outputs": [
        {
          "output_type": "error",
          "ename": "NameError",
          "evalue": "name 'X_train' is not defined",
          "traceback": [
            "\u001b[0;31m---------------------------------------------------------------------------\u001b[0m",
            "\u001b[0;31mNameError\u001b[0m                                 Traceback (most recent call last)",
            "\u001b[0;32m<ipython-input-12-b2634af551c1>\u001b[0m in \u001b[0;36m<cell line: 2>\u001b[0;34m()\u001b[0m\n\u001b[1;32m      1\u001b[0m \u001b[0;31m# Train the models\u001b[0m\u001b[0;34m\u001b[0m\u001b[0;34m\u001b[0m\u001b[0m\n\u001b[0;32m----> 2\u001b[0;31m \u001b[0mlinear_regression_model\u001b[0m\u001b[0;34m.\u001b[0m\u001b[0mfit\u001b[0m\u001b[0;34m(\u001b[0m\u001b[0mX_train\u001b[0m\u001b[0;34m,\u001b[0m \u001b[0my_train\u001b[0m\u001b[0;34m)\u001b[0m\u001b[0;34m\u001b[0m\u001b[0;34m\u001b[0m\u001b[0m\n\u001b[0m\u001b[1;32m      3\u001b[0m \u001b[0mrandom_forest_model\u001b[0m\u001b[0;34m.\u001b[0m\u001b[0mfit\u001b[0m\u001b[0;34m(\u001b[0m\u001b[0mX_train\u001b[0m\u001b[0;34m,\u001b[0m \u001b[0my_train\u001b[0m\u001b[0;34m)\u001b[0m\u001b[0;34m\u001b[0m\u001b[0;34m\u001b[0m\u001b[0m\n\u001b[1;32m      4\u001b[0m \u001b[0mgradient_boosting_model\u001b[0m\u001b[0;34m.\u001b[0m\u001b[0mfit\u001b[0m\u001b[0;34m(\u001b[0m\u001b[0mX_train\u001b[0m\u001b[0;34m,\u001b[0m \u001b[0my_train\u001b[0m\u001b[0;34m)\u001b[0m\u001b[0;34m\u001b[0m\u001b[0;34m\u001b[0m\u001b[0m\n",
            "\u001b[0;31mNameError\u001b[0m: name 'X_train' is not defined"
          ]
        }
      ]
    },
    {
      "cell_type": "markdown",
      "source": [
        "# **Make predictions on the test set**"
      ],
      "metadata": {
        "id": "8Thyg2wCu246"
      }
    },
    {
      "cell_type": "code",
      "source": [
        "# Make predictions on the test set\n",
        "y_pred_lr = linear_regression_model.predict(X_test)\n",
        "y_pred_rf = random_forest_model.predict(X_test)\n",
        "y_pred_gb = gradient_boosting_model.predict(X_test)\n"
      ],
      "metadata": {
        "id": "412MMJVVrvbR",
        "colab": {
          "base_uri": "https://localhost:8080/",
          "height": 193
        },
        "outputId": "d0af0afc-0fce-4882-cc52-13ffc87aa7da"
      },
      "execution_count": null,
      "outputs": [
        {
          "output_type": "error",
          "ename": "NameError",
          "evalue": "name 'X_test' is not defined",
          "traceback": [
            "\u001b[0;31m---------------------------------------------------------------------------\u001b[0m",
            "\u001b[0;31mNameError\u001b[0m                                 Traceback (most recent call last)",
            "\u001b[0;32m<ipython-input-13-e014c2f7c272>\u001b[0m in \u001b[0;36m<cell line: 2>\u001b[0;34m()\u001b[0m\n\u001b[1;32m      1\u001b[0m \u001b[0;31m# Make predictions on the test set\u001b[0m\u001b[0;34m\u001b[0m\u001b[0;34m\u001b[0m\u001b[0m\n\u001b[0;32m----> 2\u001b[0;31m \u001b[0my_pred_lr\u001b[0m \u001b[0;34m=\u001b[0m \u001b[0mlinear_regression_model\u001b[0m\u001b[0;34m.\u001b[0m\u001b[0mpredict\u001b[0m\u001b[0;34m(\u001b[0m\u001b[0mX_test\u001b[0m\u001b[0;34m)\u001b[0m\u001b[0;34m\u001b[0m\u001b[0;34m\u001b[0m\u001b[0m\n\u001b[0m\u001b[1;32m      3\u001b[0m \u001b[0my_pred_rf\u001b[0m \u001b[0;34m=\u001b[0m \u001b[0mrandom_forest_model\u001b[0m\u001b[0;34m.\u001b[0m\u001b[0mpredict\u001b[0m\u001b[0;34m(\u001b[0m\u001b[0mX_test\u001b[0m\u001b[0;34m)\u001b[0m\u001b[0;34m\u001b[0m\u001b[0;34m\u001b[0m\u001b[0m\n\u001b[1;32m      4\u001b[0m \u001b[0my_pred_gb\u001b[0m \u001b[0;34m=\u001b[0m \u001b[0mgradient_boosting_model\u001b[0m\u001b[0;34m.\u001b[0m\u001b[0mpredict\u001b[0m\u001b[0;34m(\u001b[0m\u001b[0mX_test\u001b[0m\u001b[0;34m)\u001b[0m\u001b[0;34m\u001b[0m\u001b[0;34m\u001b[0m\u001b[0m\n",
            "\u001b[0;31mNameError\u001b[0m: name 'X_test' is not defined"
          ]
        }
      ]
    },
    {
      "cell_type": "markdown",
      "source": [
        "# **Calculate RMSE and MAE for each model**"
      ],
      "metadata": {
        "id": "00qyzSiHu5Uh"
      }
    },
    {
      "cell_type": "code",
      "source": [
        "# Calculate RMSE and MAE for each model\n",
        "def evaluate_model(y_test, y_pred):\n",
        "    rmse = np.sqrt(mean_squared_error(y_test, y_pred))  # Root Mean Squared Error\n",
        "    mae = mean_absolute_error(y_test, y_pred)  # Mean Absolute Error\n",
        "    return rmse, mae\n",
        "\n",
        "# Evaluate the models\n",
        "rmse_lr, mae_lr = evaluate_model(y_test, y_pred_lr)\n",
        "rmse_rf, mae_rf = evaluate_model(y_test, y_pred_rf)\n",
        "rmse_gb, mae_gb = evaluate_model(y_test, y_pred_gb)\n",
        "\n",
        "# Print evaluation results for each model\n",
        "print(f\"Linear Regression - RMSE: {rmse_lr:.2f}, MAE: {mae_lr:.2f}\")\n",
        "print(f\"Random Forest - RMSE: {rmse_rf:.2f}, MAE: {mae_rf:.2f}\")\n",
        "print(f\"Gradient Boosting - RMSE: {rmse_gb:.2f}, MAE: {mae_gb:.2f}\")\n"
      ],
      "metadata": {
        "colab": {
          "base_uri": "https://localhost:8080/",
          "height": 211
        },
        "id": "2jW84M55r8eJ",
        "outputId": "c85f112f-56cd-4448-b6c2-82157bbb31b8"
      },
      "execution_count": null,
      "outputs": [
        {
          "output_type": "error",
          "ename": "NameError",
          "evalue": "name 'y_test' is not defined",
          "traceback": [
            "\u001b[0;31m---------------------------------------------------------------------------\u001b[0m",
            "\u001b[0;31mNameError\u001b[0m                                 Traceback (most recent call last)",
            "\u001b[0;32m<ipython-input-14-7f8db2fb0e51>\u001b[0m in \u001b[0;36m<cell line: 8>\u001b[0;34m()\u001b[0m\n\u001b[1;32m      6\u001b[0m \u001b[0;34m\u001b[0m\u001b[0m\n\u001b[1;32m      7\u001b[0m \u001b[0;31m# Evaluate the models\u001b[0m\u001b[0;34m\u001b[0m\u001b[0;34m\u001b[0m\u001b[0m\n\u001b[0;32m----> 8\u001b[0;31m \u001b[0mrmse_lr\u001b[0m\u001b[0;34m,\u001b[0m \u001b[0mmae_lr\u001b[0m \u001b[0;34m=\u001b[0m \u001b[0mevaluate_model\u001b[0m\u001b[0;34m(\u001b[0m\u001b[0my_test\u001b[0m\u001b[0;34m,\u001b[0m \u001b[0my_pred_lr\u001b[0m\u001b[0;34m)\u001b[0m\u001b[0;34m\u001b[0m\u001b[0;34m\u001b[0m\u001b[0m\n\u001b[0m\u001b[1;32m      9\u001b[0m \u001b[0mrmse_rf\u001b[0m\u001b[0;34m,\u001b[0m \u001b[0mmae_rf\u001b[0m \u001b[0;34m=\u001b[0m \u001b[0mevaluate_model\u001b[0m\u001b[0;34m(\u001b[0m\u001b[0my_test\u001b[0m\u001b[0;34m,\u001b[0m \u001b[0my_pred_rf\u001b[0m\u001b[0;34m)\u001b[0m\u001b[0;34m\u001b[0m\u001b[0;34m\u001b[0m\u001b[0m\n\u001b[1;32m     10\u001b[0m \u001b[0mrmse_gb\u001b[0m\u001b[0;34m,\u001b[0m \u001b[0mmae_gb\u001b[0m \u001b[0;34m=\u001b[0m \u001b[0mevaluate_model\u001b[0m\u001b[0;34m(\u001b[0m\u001b[0my_test\u001b[0m\u001b[0;34m,\u001b[0m \u001b[0my_pred_gb\u001b[0m\u001b[0;34m)\u001b[0m\u001b[0;34m\u001b[0m\u001b[0;34m\u001b[0m\u001b[0m\n",
            "\u001b[0;31mNameError\u001b[0m: name 'y_test' is not defined"
          ]
        }
      ]
    },
    {
      "cell_type": "markdown",
      "source": [
        "# **Compare model performance using bar plots for RMSE and MAE**"
      ],
      "metadata": {
        "id": "0Qbeq753u8zv"
      }
    },
    {
      "cell_type": "code",
      "source": [
        "# Compare model performance using bar plots for RMSE and MAE\n",
        "import matplotlib.pyplot as plt\n",
        "\n",
        "# Prepare the data for plotting\n",
        "models = ['Linear Regression', 'Random Forest', 'Gradient Boosting']\n",
        "rmse_values = [rmse_lr, rmse_rf, rmse_gb]\n",
        "mae_values = [mae_lr, mae_rf, mae_gb]\n",
        "\n",
        "\n",
        "# Create subplots for RMSE and MAE comparison\n",
        "fig, ax = plt.subplots(1, 2, figsize=(12, 6))\n",
        "\n",
        "# RMSE plot\n",
        "ax[0].bar(models, rmse_values, color='skyblue')\n",
        "ax[0].set_title('Root Mean Squared Error (RMSE)')\n",
        "ax[0].set_ylabel('RMSE')\n",
        "ax[0].set_yscale('log')  # Apply logarithmic scale to Y-axis for better visualization\n",
        "\n",
        "# MAE plot\n",
        "ax[1].bar(models, mae_values, color='lightgreen')\n",
        "ax[1].set_title('Mean Absolute Error (MAE)')\n",
        "ax[1].set_ylabel('MAE')\n",
        "ax[1].set_yscale('log')  # Apply logarithmic scale to Y-axis for better visualization\n",
        "\n",
        "plt.tight_layout()\n",
        "plt.show()\n"
      ],
      "metadata": {
        "colab": {
          "base_uri": "https://localhost:8080/",
          "height": 211
        },
        "id": "whfnzZ7rr_FI",
        "outputId": "22013dfc-13d2-45f6-b7cc-ee215629efeb"
      },
      "execution_count": null,
      "outputs": [
        {
          "output_type": "error",
          "ename": "NameError",
          "evalue": "name 'rmse_lr' is not defined",
          "traceback": [
            "\u001b[0;31m---------------------------------------------------------------------------\u001b[0m",
            "\u001b[0;31mNameError\u001b[0m                                 Traceback (most recent call last)",
            "\u001b[0;32m<ipython-input-15-033d95db2732>\u001b[0m in \u001b[0;36m<cell line: 6>\u001b[0;34m()\u001b[0m\n\u001b[1;32m      4\u001b[0m \u001b[0;31m# Prepare the data for plotting\u001b[0m\u001b[0;34m\u001b[0m\u001b[0;34m\u001b[0m\u001b[0m\n\u001b[1;32m      5\u001b[0m \u001b[0mmodels\u001b[0m \u001b[0;34m=\u001b[0m \u001b[0;34m[\u001b[0m\u001b[0;34m'Linear Regression'\u001b[0m\u001b[0;34m,\u001b[0m \u001b[0;34m'Random Forest'\u001b[0m\u001b[0;34m,\u001b[0m \u001b[0;34m'Gradient Boosting'\u001b[0m\u001b[0;34m]\u001b[0m\u001b[0;34m\u001b[0m\u001b[0;34m\u001b[0m\u001b[0m\n\u001b[0;32m----> 6\u001b[0;31m \u001b[0mrmse_values\u001b[0m \u001b[0;34m=\u001b[0m \u001b[0;34m[\u001b[0m\u001b[0mrmse_lr\u001b[0m\u001b[0;34m,\u001b[0m \u001b[0mrmse_rf\u001b[0m\u001b[0;34m,\u001b[0m \u001b[0mrmse_gb\u001b[0m\u001b[0;34m]\u001b[0m\u001b[0;34m\u001b[0m\u001b[0;34m\u001b[0m\u001b[0m\n\u001b[0m\u001b[1;32m      7\u001b[0m \u001b[0mmae_values\u001b[0m \u001b[0;34m=\u001b[0m \u001b[0;34m[\u001b[0m\u001b[0mmae_lr\u001b[0m\u001b[0;34m,\u001b[0m \u001b[0mmae_rf\u001b[0m\u001b[0;34m,\u001b[0m \u001b[0mmae_gb\u001b[0m\u001b[0;34m]\u001b[0m\u001b[0;34m\u001b[0m\u001b[0;34m\u001b[0m\u001b[0m\n\u001b[1;32m      8\u001b[0m \u001b[0;34m\u001b[0m\u001b[0m\n",
            "\u001b[0;31mNameError\u001b[0m: name 'rmse_lr' is not defined"
          ]
        }
      ]
    }
  ]
}