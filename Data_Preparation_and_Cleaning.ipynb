{
  "nbformat": 4,
  "nbformat_minor": 0,
  "metadata": {
    "colab": {
      "provenance": []
    },
    "kernelspec": {
      "name": "python3",
      "display_name": "Python 3"
    },
    "language_info": {
      "name": "python"
    }
  },
  "cells": [
    {
      "cell_type": "markdown",
      "source": [
        "\n",
        "# > **`Data Preparation and Cleaning:`**\n",
        "\n"
      ],
      "metadata": {
        "id": "mrgFDi-pvEHJ"
      }
    },
    {
      "cell_type": "markdown",
      "source": [
        "# **Importing Necessary libraries**"
      ],
      "metadata": {
        "id": "V5UVQMT_c5Y7"
      }
    },
    {
      "cell_type": "code",
      "source": [
        "import requests\n",
        "import zipfile\n",
        "import io\n",
        "import os\n",
        "import pandas as pd\n"
      ],
      "metadata": {
        "id": "6wGp8ezXciw-"
      },
      "execution_count": null,
      "outputs": []
    },
    {
      "cell_type": "markdown",
      "source": [
        "# **Step 1: Download and Extract Dataset**\n",
        "\n",
        "Download the dataset from GitHub\n",
        "\n",
        "Extract the zip file into the 'data' directory for further processing\n",
        "\n"
      ],
      "metadata": {
        "id": "Z7k2L0XUc_T_"
      }
    },
    {
      "cell_type": "code",
      "execution_count": null,
      "metadata": {
        "colab": {
          "base_uri": "https://localhost:8080/"
        },
        "id": "nyRRqIZ3oVAS",
        "outputId": "f0255e3c-f70d-4660-a830-96f1eb2b4feb"
      },
      "outputs": [
        {
          "output_type": "stream",
          "name": "stdout",
          "text": [
            "Files in the zip: ['Car_Price Prediction']\n"
          ]
        }
      ],
      "source": [
        "\n",
        "\n",
        "# Step 1: Download the dataset from GitHub (adjust URL as needed)\n",
        "url = 'https://github.com/SripathiVR/Car_Price_Prediction/raw/main/Car_Price%20Prediction.zip'\n",
        "response = requests.get(url)\n",
        "\n",
        "# Step 2: Extract the zip file\n",
        "with zipfile.ZipFile(io.BytesIO(response.content)) as z:\n",
        "    z.extractall('data')  # Extract all files into the 'data' folder\n",
        "\n",
        "# Check the files inside the zip to confirm the dataset name\n",
        "print(\"Files in the zip:\", os.listdir('data'))\n"
      ]
    },
    {
      "cell_type": "markdown",
      "source": [
        "# **Step 2: Load and Verify Dataset**\n",
        "\n",
        "Load the dataset from the extracted file path\n",
        "\n",
        "Display the first few rows to verify the dataset has loaded correctly"
      ],
      "metadata": {
        "id": "2SSz89EZdIJ_"
      }
    },
    {
      "cell_type": "code",
      "source": [
        "\n",
        "# Load the dataset (adjust file name based on what you see in the extracted folder)\n",
        "file_path = 'data/Car_Price Prediction/car_dekho_cleaned_dataset_Raw.csv'  # Adjust if necessary\n",
        "df = pd.read_csv(file_path)\n",
        "\n",
        "# Check the first few rows of the data\n",
        "print(df.head())\n",
        "\n",
        "# Display basic info about the dataset\n",
        "print(\"\\nDataset Info:\")\n",
        "print(df.info())\n"
      ],
      "metadata": {
        "colab": {
          "base_uri": "https://localhost:8080/"
        },
        "id": "8lVePS3mobiS",
        "outputId": "1f3d7da0-e9d0-4dc6-b33f-1167d0bd0198"
      },
      "execution_count": null,
      "outputs": [
        {
          "output_type": "stream",
          "name": "stdout",
          "text": [
            "   it      ft         bt        km transmission  ownerNo      oem  \\\n",
            "0   0  Petrol  Hatchback  120000.0       Manual        3   Maruti   \n",
            "1   0  Petrol        SUV   32706.0       Manual        2     Ford   \n",
            "2   0  Petrol  Hatchback   11949.0       Manual        1     Tata   \n",
            "3   0  Petrol      Sedan   17794.0       Manual        1  Hyundai   \n",
            "4   0  Diesel        SUV   60000.0       Manual        1   Maruti   \n",
            "\n",
            "                model  modelYear  centralVariantId  ... data_2_list_10_key  \\\n",
            "0      Maruti Celerio       2015              3979  ...    No Door Numbers   \n",
            "1       Ford Ecosport       2018              6087  ...       Cargo Volumn   \n",
            "2          Tata Tiago       2018              2983  ...   Alloy Wheel Size   \n",
            "3       Hyundai Xcent       2014              1867  ...   Alloy Wheel Size   \n",
            "4  Maruti SX4 S Cross       2015              4277  ...   Alloy Wheel Size   \n",
            "\n",
            "   data_2_list_10_value.1 data_2_list_11_key data_2_list_11_value.1  \\\n",
            "0                       5       Cargo Volumn             235-litres   \n",
            "1              352-litres                NaN                    NaN   \n",
            "2                      14    No Door Numbers                      5   \n",
            "3                      14    No Door Numbers                      4   \n",
            "4                      16    No Door Numbers                      5   \n",
            "\n",
            "  top_5_key.1 top_5_value.2  \\\n",
            "0         NaN           NaN   \n",
            "1       Seats           5.0   \n",
            "2       Seats           5.0   \n",
            "3       Seats           5.0   \n",
            "4       Seats           5.0   \n",
            "\n",
            "                                           car_links       City mileage Seats  \n",
            "0  https://www.cardekho.com/used-car-details/used...  Bangalore   23.10   5.0  \n",
            "1  https://www.cardekho.com/buy-used-car-details/...  Bangalore   17.00   5.0  \n",
            "2  https://www.cardekho.com/used-car-details/used...  Bangalore   23.84   5.0  \n",
            "3  https://www.cardekho.com/buy-used-car-details/...  Bangalore   19.10   5.0  \n",
            "4  https://www.cardekho.com/used-car-details/used...  Bangalore   23.65   5.0  \n",
            "\n",
            "[5 rows x 214 columns]\n",
            "\n",
            "Dataset Info:\n",
            "<class 'pandas.core.frame.DataFrame'>\n",
            "RangeIndex: 7511 entries, 0 to 7510\n",
            "Columns: 214 entries, it to Seats\n",
            "dtypes: float64(6), int64(4), object(204)\n",
            "memory usage: 12.3+ MB\n",
            "None\n"
          ]
        },
        {
          "output_type": "stream",
          "name": "stderr",
          "text": [
            "<ipython-input-73-413f37fcf56c>:3: DtypeWarning: Columns (155) have mixed types. Specify dtype option on import or set low_memory=False.\n",
            "  df = pd.read_csv(file_path)\n"
          ]
        }
      ]
    },
    {
      "cell_type": "markdown",
      "source": [
        "# **Step 3: Handle Missing Values**\n",
        "\n",
        "Remove columns with more than 30% missing values\n",
        "\n",
        "Fill missing values in numerical and categorical columns with the mean or mode\n"
      ],
      "metadata": {
        "id": "rDlIpNd4dQUD"
      }
    },
    {
      "cell_type": "code",
      "source": [
        "# Remove columns with more than 30% missing values\n",
        "missing_threshold = len(df) * 0.3  # 30% threshold for missing values\n",
        "df_cleaned = df.dropna(thresh=missing_threshold, axis=1)\n",
        "\n",
        "# Step 4.2: Fill missing values in categorical and numerical columns\n",
        "for feature in df_cleaned.columns:\n",
        "    if df_cleaned[feature].dtype == 'object':  # Categorical columns\n",
        "        most_common_value = df_cleaned[feature].mode()[0]  # Mode (most frequent value)\n",
        "        df_cleaned[feature].fillna(most_common_value, inplace=True)\n",
        "    else:  # Numeric columns\n",
        "        mean_value = df_cleaned[feature].mean()\n",
        "        df_cleaned[feature].fillna(mean_value, inplace=True)\n",
        "\n",
        "# Check if there are any remaining missing values\n",
        "print(\"\\nRemaining missing values:\")\n",
        "print(df_cleaned.isnull().sum())\n"
      ],
      "metadata": {
        "colab": {
          "base_uri": "https://localhost:8080/"
        },
        "id": "uRT4yMIqofC8",
        "outputId": "d4c41e4e-50c8-4ac5-d5b9-e02e16dc9960"
      },
      "execution_count": null,
      "outputs": [
        {
          "output_type": "stream",
          "name": "stderr",
          "text": [
            "<ipython-input-74-d1fdbf0326b2>:12: FutureWarning: A value is trying to be set on a copy of a DataFrame or Series through chained assignment using an inplace method.\n",
            "The behavior will change in pandas 3.0. This inplace method will never work because the intermediate object on which we are setting values always behaves as a copy.\n",
            "\n",
            "For example, when doing 'df[col].method(value, inplace=True)', try using 'df.method({col: value}, inplace=True)' or df[col] = df[col].method(value) instead, to perform the operation inplace on the original object.\n",
            "\n",
            "\n",
            "  df_cleaned[feature].fillna(mean_value, inplace=True)\n",
            "<ipython-input-74-d1fdbf0326b2>:9: FutureWarning: A value is trying to be set on a copy of a DataFrame or Series through chained assignment using an inplace method.\n",
            "The behavior will change in pandas 3.0. This inplace method will never work because the intermediate object on which we are setting values always behaves as a copy.\n",
            "\n",
            "For example, when doing 'df[col].method(value, inplace=True)', try using 'df.method({col: value}, inplace=True)' or df[col] = df[col].method(value) instead, to perform the operation inplace on the original object.\n",
            "\n",
            "\n",
            "  df_cleaned[feature].fillna(most_common_value, inplace=True)\n"
          ]
        },
        {
          "output_type": "stream",
          "name": "stdout",
          "text": [
            "\n",
            "Remaining missing values:\n",
            "it               0\n",
            "ft               0\n",
            "bt               0\n",
            "km               0\n",
            "transmission     0\n",
            "                ..\n",
            "top_5_value.2    0\n",
            "car_links        0\n",
            "City             0\n",
            "mileage          0\n",
            "Seats            0\n",
            "Length: 214, dtype: int64\n"
          ]
        }
      ]
    },
    {
      "cell_type": "code",
      "source": [
        "# Drop rows with any NaN values\n",
        "df_cleaned = df_cleaned.dropna()\n",
        "\n",
        "# Check if any NaN values remain\n",
        "print(df_cleaned.isnull().sum())"
      ],
      "metadata": {
        "colab": {
          "base_uri": "https://localhost:8080/"
        },
        "id": "qt_HUGc_nUnx",
        "outputId": "d189184e-b41e-4ee6-9aa3-5c47e9fff61f"
      },
      "execution_count": null,
      "outputs": [
        {
          "output_type": "stream",
          "name": "stdout",
          "text": [
            "it               0\n",
            "ft               0\n",
            "bt               0\n",
            "km               0\n",
            "transmission     0\n",
            "                ..\n",
            "top_5_value.2    0\n",
            "car_links        0\n",
            "City             0\n",
            "mileage          0\n",
            "Seats            0\n",
            "Length: 214, dtype: int64\n"
          ]
        }
      ]
    },
    {
      "cell_type": "code",
      "source": [
        "# Drop rows with NaN values in specific columns ('age', 'salary')\n",
        "df_cleaned = df_cleaned.dropna(subset=['ft', 'bt', 'model', 'transmission','oem' , 'variantName'])\n",
        "\n",
        "# Check if any NaN values remain\n",
        "print(df_cleaned.isnull().sum())"
      ],
      "metadata": {
        "colab": {
          "base_uri": "https://localhost:8080/"
        },
        "id": "QMJhujH8nbFm",
        "outputId": "cbee3d1e-b89f-4773-d34c-1873fbce3424"
      },
      "execution_count": null,
      "outputs": [
        {
          "output_type": "stream",
          "name": "stdout",
          "text": [
            "it               0\n",
            "ft               0\n",
            "bt               0\n",
            "km               0\n",
            "transmission     0\n",
            "                ..\n",
            "top_5_value.2    0\n",
            "car_links        0\n",
            "City             0\n",
            "mileage          0\n",
            "Seats            0\n",
            "Length: 214, dtype: int64\n"
          ]
        }
      ]
    },
    {
      "cell_type": "markdown",
      "source": [
        "# **Step 4: Remove Irrelevant Columns**\n",
        "\n",
        "Drop columns that are irrelevant to car price prediction\n",
        "\n",
        "Remove unnecessary features like image URLs, text descriptions, etc.\n"
      ],
      "metadata": {
        "id": "2yWPMoFKdZl0"
      }
    },
    {
      "cell_type": "code",
      "source": [
        "\n",
        "# Load the dataset\n",
        "df = pd.read_csv('data/Car_Price Prediction/car_dekho_cleaned_dataset_Raw.csv')  # Adjust path if needed\n",
        "\n",
        "# Columns to drop (irrelevant columns for car price prediction)\n",
        "irrelevant_columns = [\n",
        "    'car_links', 'City', 'trendingText_imgUrl', 'trendingText_desc', 'trendingText_heading',\n",
        "    'heading', 'top_0_key', 'top_0_value', 'top_0_icon', 'top_1_key', 'top_1_value', 'top_1_icon',\n",
        "    'top_2_key', 'top_2_value', 'top_2_icon', 'top_3_key', 'top_3_value', 'top_3_icon', 'top_4_key',\n",
        "    'top_4_value', 'top_4_icon', 'top_5_key', 'top_5_value', 'top_5_icon', 'top_6_key', 'top_6_value',\n",
        "    'top_6_icon', 'top_7_key', 'top_7_value', 'top_7_icon', 'top_8_key', 'top_8_value', 'top_8_icon',\n",
        "    'top_9_key', 'top_9_value', 'top_9_icon', 'heading.1', 'top_0_value.1', 'top_1_value.1',\n",
        "    'top_2_value.1', 'top_3_value.1', 'top_4_value.1', 'top_5_value.1', 'top_6_value.1', 'top_7_value.1',\n",
        "    'data_0_heading', 'data_0_subHeading', 'data_0_list_0_value', 'data_0_list_1_value', 'data_0_list_2_value',\n",
        "    'data_0_list_3_value', 'data_0_list_4_value', 'data_0_list_5_value', 'data_0_list_6_value',\n",
        "    'data_0_list_7_value', 'data_0_list_8_value', 'data_0_list_9_value', 'data_1_heading', 'data_1_subHeading',\n",
        "    'data_1_list_0_value', 'data_1_list_1_value', 'data_1_list_2_value', 'data_1_list_3_value',\n",
        "    'data_1_list_4_value', 'data_1_list_5_value', 'data_1_list_6_value', 'data_2_heading', 'data_2_subHeading',\n",
        "    'data_2_list_0_value', 'data_2_list_1_value', 'data_2_list_2_value', 'data_2_list_3_value', 'data_2_list_4_value',\n",
        "    'data_3_heading', 'data_3_subHeading', 'data_3_list_0_value', 'data_3_list_1_value', 'data_3_list_2_value',\n",
        "    'data_3_list_3_value', 'data_3_list_4_value', 'data_3_list_5_value', 'data_3_list_6_value', 'data_3_list_7_value',\n",
        "    'data_3_list_8_value', 'data_3_list_9_value', 'data_3_list_10_value', 'data_3_list_11_value', 'data_3_list_12_value',\n",
        "    'commonIcon', 'top_8_value.1', 'data_0_list_10_value', 'data_0_list_11_value', 'data_0_list_12_value',\n",
        "    'data_0_list_13_value', 'data_0_list_14_value', 'data_1_list_7_value', 'data_1_list_8_value', 'data_1_list_9_value',\n",
        "    'data_1_list_10_value', 'data_2_list_5_value', 'data_2_list_6_value', 'data_2_list_7_value', 'data_2_list_8_value',\n",
        "    'data_2_list_9_value', 'data_3_list_13_value', 'data_3_list_14_value', 'data_3_list_15_value', 'data_3_list_16_value',\n",
        "    'data_3_list_17_value', 'data_3_list_18_value', 'data_3_list_19_value', 'data_3_list_20_value', 'data_3_list_21_value',\n",
        "    'data_3_list_22_value', 'data_4_heading', 'data_4_subHeading', 'data_4_list_0_value', 'data_4_list_1_value',\n",
        "    'data_4_list_2_value', 'data_4_list_3_value', 'data_4_list_4_value', 'data_4_list_5_value', 'data_4_list_6_value',\n",
        "    'heading.2', 'top_0_key.1', 'top_1_key.1', 'top_1_value.2', 'top_2_key.1', 'top_2_value.2', 'top_3_key.1',\n",
        "    'top_3_value.2', 'top_4_key.1', 'top_4_value.2', 'data_0_heading.1', 'data_0_subHeading.1', 'data_0_list_0_key',\n",
        "    'data_0_list_0_value.1', 'data_0_list_1_key', 'data_0_list_1_value.1', 'data_0_list_2_key', 'data_0_list_2_value.1',\n",
        "    'data_0_list_3_key', 'data_0_list_3_value.1', 'data_0_list_4_key', 'data_0_list_4_value.1', 'data_0_list_5_key',\n",
        "    'data_0_list_5_value.1', 'data_0_list_6_key', 'data_0_list_6_value.1', 'data_0_list_7_key', 'data_0_list_7_value.1',\n",
        "    'data_0_list_8_key', 'data_0_list_8_value.1', 'data_0_list_9_key', 'data_0_list_9_value.1', 'data_0_list_10_key',\n",
        "    'data_0_list_10_value.1', 'data_1_heading.1', 'data_1_subHeading.1', 'data_1_list_0_key', 'data_1_list_0_value.1',\n",
        "    'data_1_list_1_key', 'data_1_list_1_value.1', 'data_1_list_2_key', 'data_1_list_2_value.1', 'data_1_list_3_key',\n",
        "    'data_1_list_3_value.1', 'data_1_list_4_key', 'data_1_list_4_value.1', 'data_1_list_5_key', 'data_1_list_5_value.1',\n",
        "    'data_1_list_6_key', 'data_1_list_6_value.1', 'data_2_heading.1', 'data_2_subHeading.1', 'data_2_list_0_key',\n",
        "    'data_2_list_0_value.1', 'data_2_list_1_key', 'data_2_list_1_value.1', 'data_2_list_2_key', 'data_2_list_2_value.1',\n",
        "    'data_2_list_3_key', 'data_2_list_3_value.1', 'data_2_list_4_key', 'data_2_list_4_value.1', 'data_2_list_5_key',\n",
        "    'data_2_list_5_value.1', 'data_2_list_6_key', 'data_2_list_6_value.1', 'data_2_list_7_key', 'data_2_list_7_value.1',\n",
        "    'data_2_list_8_key', 'data_2_list_8_value.1', 'data_2_list_9_key', 'data_2_list_9_value.1', 'data_2_list_10_key',\n",
        "    'data_2_list_10_value.1', 'data_2_list_11_key', 'data_2_list_11_value.1', 'top_5_key.1', 'top_5_value.2'\n",
        "]\n",
        "\n",
        "# Remove irrelevant columns\n",
        "df_cleaned = df.drop(columns=irrelevant_columns, errors='ignore')\n",
        "\n",
        "# Verify the cleaned dataset\n",
        "print(df_cleaned.head())\n"
      ],
      "metadata": {
        "colab": {
          "base_uri": "https://localhost:8080/"
        },
        "id": "laamqHyMoj1K",
        "outputId": "907487bd-5064-4786-b46c-7e87a8a06301"
      },
      "execution_count": null,
      "outputs": [
        {
          "output_type": "stream",
          "name": "stdout",
          "text": [
            "   it      ft         bt        km transmission  ownerNo      oem  \\\n",
            "0   0  Petrol  Hatchback  120000.0       Manual        3   Maruti   \n",
            "1   0  Petrol        SUV   32706.0       Manual        2     Ford   \n",
            "2   0  Petrol  Hatchback   11949.0       Manual        1     Tata   \n",
            "3   0  Petrol      Sedan   17794.0       Manual        1  Hyundai   \n",
            "4   0  Diesel        SUV   60000.0       Manual        1   Maruti   \n",
            "\n",
            "                model  modelYear  centralVariantId               variantName  \\\n",
            "0      Maruti Celerio       2015              3979                       VXI   \n",
            "1       Ford Ecosport       2018              6087  1.5 Petrol Titanium BSIV   \n",
            "2          Tata Tiago       2018              2983           1.2 Revotron XZ   \n",
            "3       Hyundai Xcent       2014              1867        1.2 Kappa S Option   \n",
            "4  Maruti SX4 S Cross       2015              4277             DDiS 200 Zeta   \n",
            "\n",
            "      price  mileage  Seats  \n",
            "0  400000.0    23.10    5.0  \n",
            "1  811000.0    17.00    5.0  \n",
            "2  585000.0    23.84    5.0  \n",
            "3  462000.0    19.10    5.0  \n",
            "4  790000.0    23.65    5.0  \n"
          ]
        },
        {
          "output_type": "stream",
          "name": "stderr",
          "text": [
            "<ipython-input-77-4a7784ca500e>:2: DtypeWarning: Columns (155) have mixed types. Specify dtype option on import or set low_memory=False.\n",
            "  df = pd.read_csv('data/Car_Price Prediction/car_dekho_cleaned_dataset_Raw.csv')  # Adjust path if needed\n"
          ]
        }
      ]
    },
    {
      "cell_type": "markdown",
      "source": [
        "# **Step 5: Verify and Save the Cleaned Dataset**\n",
        "\n",
        "Check the shape and first few rows of the cleaned data before saving\n",
        "Save the cleaned dataset to Google Drive if it's not empty\n"
      ],
      "metadata": {
        "id": "-yINDaZwdf-E"
      }
    },
    {
      "cell_type": "code",
      "source": [
        "# Check the shape and the first few rows of df_cleaned before saving\n",
        "print(f\"Shape of df_cleaned: {df_cleaned.shape}\")\n",
        "print(f\"First few rows of df_cleaned:\\n{df_cleaned.head()}\")\n",
        "\n",
        "# If df_cleaned has rows, proceed with saving\n",
        "if df_cleaned.shape[0] > 0:\n",
        "    # Ensure the directory exists\n",
        "    output_dir = '/content/drive/MyDrive'\n",
        "    if not os.path.exists(output_dir):\n",
        "        os.makedirs(output_dir)\n",
        "\n",
        "    # Save the cleaned dataset\n",
        "    df_cleaned.to_csv(output_dir + '/car_price_cleaned_data.csv', index=False)\n",
        "    print(\"Data saved successfully!\")\n",
        "else:\n",
        "    print(\"Dataframe is empty. Cannot save an empty file.\")\n"
      ],
      "metadata": {
        "colab": {
          "base_uri": "https://localhost:8080/"
        },
        "id": "FiHnyv2bprna",
        "outputId": "a22dfaaa-a4d2-4499-982a-77cb68c07021"
      },
      "execution_count": null,
      "outputs": [
        {
          "output_type": "stream",
          "name": "stdout",
          "text": [
            "Shape of df_cleaned: (7511, 14)\n",
            "First few rows of df_cleaned:\n",
            "   it      ft         bt        km transmission  ownerNo      oem  \\\n",
            "0   0  Petrol  Hatchback  120000.0       Manual        3   Maruti   \n",
            "1   0  Petrol        SUV   32706.0       Manual        2     Ford   \n",
            "2   0  Petrol  Hatchback   11949.0       Manual        1     Tata   \n",
            "3   0  Petrol      Sedan   17794.0       Manual        1  Hyundai   \n",
            "4   0  Diesel        SUV   60000.0       Manual        1   Maruti   \n",
            "\n",
            "                model  modelYear  centralVariantId               variantName  \\\n",
            "0      Maruti Celerio       2015              3979                       VXI   \n",
            "1       Ford Ecosport       2018              6087  1.5 Petrol Titanium BSIV   \n",
            "2          Tata Tiago       2018              2983           1.2 Revotron XZ   \n",
            "3       Hyundai Xcent       2014              1867        1.2 Kappa S Option   \n",
            "4  Maruti SX4 S Cross       2015              4277             DDiS 200 Zeta   \n",
            "\n",
            "      price  mileage  Seats  \n",
            "0  400000.0    23.10    5.0  \n",
            "1  811000.0    17.00    5.0  \n",
            "2  585000.0    23.84    5.0  \n",
            "3  462000.0    19.10    5.0  \n",
            "4  790000.0    23.65    5.0  \n",
            "Data saved successfully!\n"
          ]
        }
      ]
    },
    {
      "cell_type": "markdown",
      "source": [
        "# **Step 6: Save Cleaned Data to Google Drive**\n",
        "\n",
        "Save the cleaned data to Google Drive for further use\n",
        "\n",
        "Verify that the file was saved successfully by listing files in MyDrive"
      ],
      "metadata": {
        "id": "78vpsnyZdmfo"
      }
    },
    {
      "cell_type": "code",
      "source": [
        "# Save the cleaned data to Google Drive\n",
        "df_cleaned.to_csv('/content/drive/MyDrive/car_price_cleaned_data.csv', index=False)\n",
        "\n",
        "# Check if the file exists\n",
        "print(\"Files in MyDrive:\", os.listdir('/content/drive/MyDrive'))\n"
      ],
      "metadata": {
        "colab": {
          "base_uri": "https://localhost:8080/"
        },
        "id": "KiHEb3OpslUq",
        "outputId": "175ef327-94a5-4d7a-8de6-7255f15e4130"
      },
      "execution_count": null,
      "outputs": [
        {
          "output_type": "stream",
          "name": "stdout",
          "text": [
            "Files in MyDrive: ['car_price_cleaned_data.csv']\n"
          ]
        }
      ]
    },
    {
      "cell_type": "code",
      "source": [
        "# Save the cleaned data to Google Drive\n",
        "df_cleaned.to_csv('/content/drive/MyDrive/car_price_cleaned_data.csv', index=False)\n",
        "print(\"Cleaned data saved to Google Drive.\")\n"
      ],
      "metadata": {
        "colab": {
          "base_uri": "https://localhost:8080/"
        },
        "id": "taLyfYHwf8WN",
        "outputId": "83c3e0e6-f39c-4723-dfcb-8da1cbc7ebad"
      },
      "execution_count": null,
      "outputs": [
        {
          "output_type": "stream",
          "name": "stdout",
          "text": [
            "Cleaned data saved to Google Drive.\n"
          ]
        }
      ]
    },
